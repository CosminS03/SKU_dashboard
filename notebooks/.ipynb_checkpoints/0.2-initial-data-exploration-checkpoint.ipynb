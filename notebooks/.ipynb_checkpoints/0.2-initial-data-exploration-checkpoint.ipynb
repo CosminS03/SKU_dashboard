{
 "cells": [
  {
   "cell_type": "code",
   "execution_count": 2,
   "id": "71f75d8a",
   "metadata": {},
   "outputs": [
    {
     "name": "stdout",
     "output_type": "stream",
     "text": [
      "<class 'pandas.core.frame.DataFrame'>\n",
      "RangeIndex: 541909 entries, 0 to 541908\n",
      "Data columns (total 9 columns):\n",
      " #   Column       Non-Null Count   Dtype  \n",
      "---  ------       --------------   -----  \n",
      " 0   index        541909 non-null  int64  \n",
      " 1   InvoiceNo    541909 non-null  object \n",
      " 2   StockCode    541909 non-null  object \n",
      " 3   Description  540455 non-null  object \n",
      " 4   Quantity     541909 non-null  int64  \n",
      " 5   InvoiceDate  541909 non-null  object \n",
      " 6   UnitPrice    541909 non-null  float64\n",
      " 7   CustomerID   406829 non-null  float64\n",
      " 8   Country      541909 non-null  object \n",
      "dtypes: float64(2), int64(2), object(5)\n",
      "memory usage: 37.2+ MB\n"
     ]
    }
   ],
   "source": [
    "import pandas as pd\n",
    "df = pd.read_csv(\"../data/raw/online_retail.csv\")\n",
    "df.info()"
   ]
  },
  {
   "cell_type": "code",
   "execution_count": 20,
   "id": "facf2b4a",
   "metadata": {},
   "outputs": [
    {
     "data": {
      "text/plain": [
       "array(['C', 'A'], dtype=object)"
      ]
     },
     "execution_count": 20,
     "metadata": {},
     "output_type": "execute_result"
    }
   ],
   "source": [
    "df[df[\"InvoiceNo\"].str.contains(r'^(?=.*[a-zA-Z])(?=.*[0-9])[a-zA-Z0-9]+$')][\"InvoiceNo\"].str[0].unique()"
   ]
  },
  {
   "cell_type": "code",
   "execution_count": 4,
   "id": "f8036498",
   "metadata": {},
   "outputs": [
    {
     "data": {
      "text/plain": [
       "array([], dtype=object)"
      ]
     },
     "execution_count": 4,
     "metadata": {},
     "output_type": "execute_result"
    }
   ],
   "source": [
    "df[df[\"InvoiceNo\"].str.contains(r'^[a-zA-Z]+$')][\"InvoiceNo\"].unique()"
   ]
  },
  {
   "cell_type": "code",
   "execution_count": 7,
   "id": "31846d48",
   "metadata": {},
   "outputs": [
    {
     "data": {
      "text/plain": [
       "array(['85123A', '71053', '84406B', ..., '90214U', '47591b', '23843'],\n",
       "      shape=(4070,), dtype=object)"
      ]
     },
     "execution_count": 7,
     "metadata": {},
     "output_type": "execute_result"
    }
   ],
   "source": [
    "df[\"StockCode\"].unique()"
   ]
  },
  {
   "cell_type": "code",
   "execution_count": 6,
   "id": "c64a1425",
   "metadata": {},
   "outputs": [
    {
     "data": {
      "text/plain": [
       "array(['85123A', '84406B', '84029G', ..., '85179a', '90214U', '47591b'],\n",
       "      shape=(1106,), dtype=object)"
      ]
     },
     "execution_count": 6,
     "metadata": {},
     "output_type": "execute_result"
    }
   ],
   "source": [
    "df[df[\"StockCode\"].str.contains(r'^(?=.*[a-zA-Z])(?=.*[0-9])[a-zA-Z0-9]+$')][\"StockCode\"].unique()"
   ]
  },
  {
   "cell_type": "code",
   "execution_count": 13,
   "id": "c11cde96",
   "metadata": {},
   "outputs": [
    {
     "data": {
      "text/plain": [
       "array(['71053', '22752', '21730', ..., '23609', '23617', '23843'],\n",
       "      shape=(2946,), dtype=object)"
      ]
     },
     "execution_count": 13,
     "metadata": {},
     "output_type": "execute_result"
    }
   ],
   "source": [
    "df[df[\"StockCode\"].str.contains(r'^\\d+$')][\"StockCode\"].unique()"
   ]
  },
  {
   "cell_type": "code",
   "execution_count": 14,
   "id": "474b8741",
   "metadata": {},
   "outputs": [
    {
     "data": {
      "text/plain": [
       "array(['POST', 'D', 'DOT', 'M', 'S', 'AMAZONFEE', 'm', 'DCGSSBOY',\n",
       "       'DCGSSGIRL', 'PADS', 'B', 'CRUK'], dtype=object)"
      ]
     },
     "execution_count": 14,
     "metadata": {},
     "output_type": "execute_result"
    }
   ],
   "source": [
    "df[df[\"StockCode\"].str.contains(r'^[a-zA-Z]+$')][\"StockCode\"].unique()"
   ]
  },
  {
   "cell_type": "code",
   "execution_count": 20,
   "id": "f8fede18",
   "metadata": {},
   "outputs": [
    {
     "data": {
      "text/plain": [
       "array(['BANK CHARGES', 'gift_0001_40', 'gift_0001_50', 'gift_0001_30',\n",
       "       'gift_0001_20', 'gift_0001_10'], dtype=object)"
      ]
     },
     "execution_count": 20,
     "metadata": {},
     "output_type": "execute_result"
    }
   ],
   "source": [
    "match_mask = (\n",
    "    df[\"StockCode\"].str.contains(r'^[a-zA-Z]+$') |\n",
    "    df[\"StockCode\"].str.contains(r'^\\d+$') |\n",
    "    df[\"StockCode\"].str.contains(r'^(?=.*[a-zA-Z])(?=.*[0-9])[a-zA-Z0-9]+$')\n",
    ")\n",
    "\n",
    "df[~match_mask][\"StockCode\"].unique()"
   ]
  },
  {
   "cell_type": "code",
   "execution_count": 22,
   "id": "838fa082",
   "metadata": {},
   "outputs": [
    {
     "data": {
      "application/vnd.microsoft.datawrangler.viewer.v0+json": {
       "columns": [
        {
         "name": "index",
         "rawType": "int64",
         "type": "integer"
        },
        {
         "name": "index",
         "rawType": "int64",
         "type": "integer"
        },
        {
         "name": "InvoiceNo",
         "rawType": "object",
         "type": "string"
        },
        {
         "name": "StockCode",
         "rawType": "object",
         "type": "string"
        },
        {
         "name": "Description",
         "rawType": "object",
         "type": "string"
        },
        {
         "name": "Quantity",
         "rawType": "int64",
         "type": "integer"
        },
        {
         "name": "InvoiceDate",
         "rawType": "object",
         "type": "string"
        },
        {
         "name": "UnitPrice",
         "rawType": "float64",
         "type": "float"
        },
        {
         "name": "CustomerID",
         "rawType": "float64",
         "type": "float"
        },
        {
         "name": "Country",
         "rawType": "object",
         "type": "string"
        }
       ],
       "ref": "d05ebaf3-cda4-4157-8d6c-6d463b09bfce",
       "rows": [
        [
         "42057",
         "42057",
         "539958",
         "gift_0001_50",
         "Dotcomgiftshop Gift Voucher £50.00",
         "1",
         "12/23/2010 13:26",
         "42.55",
         null,
         "United Kingdom"
        ],
        [
         "178556",
         "178556",
         "552232",
         "gift_0001_50",
         "Dotcomgiftshop Gift Voucher £50.00",
         "1",
         "5/6/2011 15:54",
         "41.67",
         null,
         "United Kingdom"
        ],
        [
         "239744",
         "239744",
         "558066",
         "gift_0001_50",
         "Dotcomgiftshop Gift Voucher £50.00",
         "1",
         "6/24/2011 15:45",
         "41.67",
         null,
         "United Kingdom"
        ],
        [
         "245516",
         "245516",
         "558614",
         "gift_0001_50",
         "Dotcomgiftshop Gift Voucher £50.00",
         "1",
         "6/30/2011 15:56",
         "41.67",
         null,
         "United Kingdom"
        ]
       ],
       "shape": {
        "columns": 9,
        "rows": 4
       }
      },
      "text/html": [
       "<div>\n",
       "<style scoped>\n",
       "    .dataframe tbody tr th:only-of-type {\n",
       "        vertical-align: middle;\n",
       "    }\n",
       "\n",
       "    .dataframe tbody tr th {\n",
       "        vertical-align: top;\n",
       "    }\n",
       "\n",
       "    .dataframe thead th {\n",
       "        text-align: right;\n",
       "    }\n",
       "</style>\n",
       "<table border=\"1\" class=\"dataframe\">\n",
       "  <thead>\n",
       "    <tr style=\"text-align: right;\">\n",
       "      <th></th>\n",
       "      <th>index</th>\n",
       "      <th>InvoiceNo</th>\n",
       "      <th>StockCode</th>\n",
       "      <th>Description</th>\n",
       "      <th>Quantity</th>\n",
       "      <th>InvoiceDate</th>\n",
       "      <th>UnitPrice</th>\n",
       "      <th>CustomerID</th>\n",
       "      <th>Country</th>\n",
       "    </tr>\n",
       "  </thead>\n",
       "  <tbody>\n",
       "    <tr>\n",
       "      <th>42057</th>\n",
       "      <td>42057</td>\n",
       "      <td>539958</td>\n",
       "      <td>gift_0001_50</td>\n",
       "      <td>Dotcomgiftshop Gift Voucher £50.00</td>\n",
       "      <td>1</td>\n",
       "      <td>12/23/2010 13:26</td>\n",
       "      <td>42.55</td>\n",
       "      <td>NaN</td>\n",
       "      <td>United Kingdom</td>\n",
       "    </tr>\n",
       "    <tr>\n",
       "      <th>178556</th>\n",
       "      <td>178556</td>\n",
       "      <td>552232</td>\n",
       "      <td>gift_0001_50</td>\n",
       "      <td>Dotcomgiftshop Gift Voucher £50.00</td>\n",
       "      <td>1</td>\n",
       "      <td>5/6/2011 15:54</td>\n",
       "      <td>41.67</td>\n",
       "      <td>NaN</td>\n",
       "      <td>United Kingdom</td>\n",
       "    </tr>\n",
       "    <tr>\n",
       "      <th>239744</th>\n",
       "      <td>239744</td>\n",
       "      <td>558066</td>\n",
       "      <td>gift_0001_50</td>\n",
       "      <td>Dotcomgiftshop Gift Voucher £50.00</td>\n",
       "      <td>1</td>\n",
       "      <td>6/24/2011 15:45</td>\n",
       "      <td>41.67</td>\n",
       "      <td>NaN</td>\n",
       "      <td>United Kingdom</td>\n",
       "    </tr>\n",
       "    <tr>\n",
       "      <th>245516</th>\n",
       "      <td>245516</td>\n",
       "      <td>558614</td>\n",
       "      <td>gift_0001_50</td>\n",
       "      <td>Dotcomgiftshop Gift Voucher £50.00</td>\n",
       "      <td>1</td>\n",
       "      <td>6/30/2011 15:56</td>\n",
       "      <td>41.67</td>\n",
       "      <td>NaN</td>\n",
       "      <td>United Kingdom</td>\n",
       "    </tr>\n",
       "  </tbody>\n",
       "</table>\n",
       "</div>"
      ],
      "text/plain": [
       "         index InvoiceNo     StockCode                         Description  \\\n",
       "42057    42057    539958  gift_0001_50  Dotcomgiftshop Gift Voucher £50.00   \n",
       "178556  178556    552232  gift_0001_50  Dotcomgiftshop Gift Voucher £50.00   \n",
       "239744  239744    558066  gift_0001_50  Dotcomgiftshop Gift Voucher £50.00   \n",
       "245516  245516    558614  gift_0001_50  Dotcomgiftshop Gift Voucher £50.00   \n",
       "\n",
       "        Quantity       InvoiceDate  UnitPrice  CustomerID         Country  \n",
       "42057          1  12/23/2010 13:26      42.55         NaN  United Kingdom  \n",
       "178556         1    5/6/2011 15:54      41.67         NaN  United Kingdom  \n",
       "239744         1   6/24/2011 15:45      41.67         NaN  United Kingdom  \n",
       "245516         1   6/30/2011 15:56      41.67         NaN  United Kingdom  "
      ]
     },
     "execution_count": 22,
     "metadata": {},
     "output_type": "execute_result"
    }
   ],
   "source": [
    "df[df[\"StockCode\"] == 'gift_0001_50']"
   ]
  },
  {
   "cell_type": "code",
   "execution_count": 30,
   "id": "1f7584f1",
   "metadata": {},
   "outputs": [
    {
     "name": "stderr",
     "output_type": "stream",
     "text": [
      "C:\\Users\\spanu\\AppData\\Local\\Temp\\ipykernel_12796\\475170551.py:1: UserWarning: Boolean Series key will be reindexed to match DataFrame index.\n",
      "  df[df[\"Description\"].isnull()][df[\"UnitPrice\"] == 0]\n"
     ]
    },
    {
     "data": {
      "application/vnd.microsoft.datawrangler.viewer.v0+json": {
       "columns": [
        {
         "name": "index",
         "rawType": "int64",
         "type": "integer"
        },
        {
         "name": "index",
         "rawType": "int64",
         "type": "integer"
        },
        {
         "name": "InvoiceNo",
         "rawType": "object",
         "type": "string"
        },
        {
         "name": "StockCode",
         "rawType": "object",
         "type": "string"
        },
        {
         "name": "Description",
         "rawType": "object",
         "type": "unknown"
        },
        {
         "name": "Quantity",
         "rawType": "int64",
         "type": "integer"
        },
        {
         "name": "InvoiceDate",
         "rawType": "object",
         "type": "string"
        },
        {
         "name": "UnitPrice",
         "rawType": "float64",
         "type": "float"
        },
        {
         "name": "CustomerID",
         "rawType": "float64",
         "type": "float"
        },
        {
         "name": "Country",
         "rawType": "object",
         "type": "string"
        }
       ],
       "ref": "116e0fe7-2249-42e6-9d0b-44d91f8544e3",
       "rows": [
        [
         "622",
         "622",
         "536414",
         "22139",
         null,
         "56",
         "12/1/2010 11:52",
         "0.0",
         null,
         "United Kingdom"
        ],
        [
         "1970",
         "1970",
         "536545",
         "21134",
         null,
         "1",
         "12/1/2010 14:32",
         "0.0",
         null,
         "United Kingdom"
        ],
        [
         "1971",
         "1971",
         "536546",
         "22145",
         null,
         "1",
         "12/1/2010 14:33",
         "0.0",
         null,
         "United Kingdom"
        ],
        [
         "1972",
         "1972",
         "536547",
         "37509",
         null,
         "1",
         "12/1/2010 14:33",
         "0.0",
         null,
         "United Kingdom"
        ],
        [
         "1987",
         "1987",
         "536549",
         "85226A",
         null,
         "1",
         "12/1/2010 14:34",
         "0.0",
         null,
         "United Kingdom"
        ],
        [
         "1988",
         "1988",
         "536550",
         "85044",
         null,
         "1",
         "12/1/2010 14:34",
         "0.0",
         null,
         "United Kingdom"
        ],
        [
         "2024",
         "2024",
         "536552",
         "20950",
         null,
         "1",
         "12/1/2010 14:34",
         "0.0",
         null,
         "United Kingdom"
        ],
        [
         "2025",
         "2025",
         "536553",
         "37461",
         null,
         "3",
         "12/1/2010 14:35",
         "0.0",
         null,
         "United Kingdom"
        ],
        [
         "2026",
         "2026",
         "536554",
         "84670",
         null,
         "23",
         "12/1/2010 14:35",
         "0.0",
         null,
         "United Kingdom"
        ],
        [
         "2406",
         "2406",
         "536589",
         "21777",
         null,
         "-10",
         "12/1/2010 16:50",
         "0.0",
         null,
         "United Kingdom"
        ],
        [
         "4347",
         "4347",
         "536764",
         "84952C",
         null,
         "-38",
         "12/2/2010 14:42",
         "0.0",
         null,
         "United Kingdom"
        ],
        [
         "4348",
         "4348",
         "536765",
         "84952C",
         null,
         "19",
         "12/2/2010 14:43",
         "0.0",
         null,
         "United Kingdom"
        ],
        [
         "7187",
         "7187",
         "536995",
         "35951",
         null,
         "57",
         "12/3/2010 15:29",
         "0.0",
         null,
         "United Kingdom"
        ],
        [
         "7188",
         "7188",
         "536996",
         "22712",
         null,
         "-20",
         "12/3/2010 15:30",
         "0.0",
         null,
         "United Kingdom"
        ],
        [
         "7189",
         "7189",
         "536997",
         "22028",
         null,
         "-20",
         "12/3/2010 15:30",
         "0.0",
         null,
         "United Kingdom"
        ],
        [
         "7190",
         "7190",
         "536998",
         "85067",
         null,
         "-6",
         "12/3/2010 15:30",
         "0.0",
         null,
         "United Kingdom"
        ],
        [
         "7191",
         "7191",
         "536999",
         "21421",
         null,
         "110",
         "12/3/2010 15:32",
         "0.0",
         null,
         "United Kingdom"
        ],
        [
         "7192",
         "7192",
         "537000",
         "21414",
         null,
         "-22",
         "12/3/2010 15:32",
         "0.0",
         null,
         "United Kingdom"
        ],
        [
         "7193",
         "7193",
         "537001",
         "21653",
         null,
         "-6",
         "12/3/2010 15:33",
         "0.0",
         null,
         "United Kingdom"
        ],
        [
         "7194",
         "7194",
         "537002",
         "21651",
         null,
         "70",
         "12/3/2010 15:33",
         "0.0",
         null,
         "United Kingdom"
        ],
        [
         "7195",
         "7195",
         "537003",
         "85126",
         null,
         "-2",
         "12/3/2010 15:33",
         "0.0",
         null,
         "United Kingdom"
        ],
        [
         "7196",
         "7196",
         "537004",
         "21814",
         null,
         "-30",
         "12/3/2010 15:34",
         "0.0",
         null,
         "United Kingdom"
        ],
        [
         "7197",
         "7197",
         "537005",
         "21692",
         null,
         "-70",
         "12/3/2010 15:35",
         "0.0",
         null,
         "United Kingdom"
        ],
        [
         "7198",
         "7198",
         "537006",
         "21648",
         null,
         "-130",
         "12/3/2010 15:36",
         "0.0",
         null,
         "United Kingdom"
        ],
        [
         "7199",
         "7199",
         "537007",
         "21172",
         null,
         "-80",
         "12/3/2010 15:36",
         "0.0",
         null,
         "United Kingdom"
        ],
        [
         "7200",
         "7200",
         "537008",
         "21161",
         null,
         "-120",
         "12/3/2010 15:37",
         "0.0",
         null,
         "United Kingdom"
        ],
        [
         "7201",
         "7201",
         "537009",
         "84534B",
         null,
         "-80",
         "12/3/2010 15:38",
         "0.0",
         null,
         "United Kingdom"
        ],
        [
         "7202",
         "7202",
         "537010",
         "22162",
         null,
         "-40",
         "12/3/2010 15:38",
         "0.0",
         null,
         "United Kingdom"
        ],
        [
         "7203",
         "7203",
         "537011",
         "22139",
         null,
         "-5",
         "12/3/2010 15:38",
         "0.0",
         null,
         "United Kingdom"
        ],
        [
         "7204",
         "7204",
         "537012",
         "21535",
         null,
         "-12",
         "12/3/2010 15:39",
         "0.0",
         null,
         "United Kingdom"
        ],
        [
         "7205",
         "7205",
         "537013",
         "35965",
         null,
         "-25",
         "12/3/2010 15:40",
         "0.0",
         null,
         "United Kingdom"
        ],
        [
         "7206",
         "7206",
         "537014",
         "21040",
         null,
         "-20",
         "12/3/2010 15:40",
         "0.0",
         null,
         "United Kingdom"
        ],
        [
         "7207",
         "7207",
         "537015",
         "37464",
         null,
         "-14",
         "12/3/2010 15:41",
         "0.0",
         null,
         "United Kingdom"
        ],
        [
         "7208",
         "7208",
         "537016",
         "21836",
         null,
         "-15",
         "12/3/2010 15:41",
         "0.0",
         null,
         "United Kingdom"
        ],
        [
         "7209",
         "7209",
         "537017",
         "47556B",
         null,
         "-69",
         "12/3/2010 15:41",
         "0.0",
         null,
         "United Kingdom"
        ],
        [
         "7210",
         "7210",
         "537018",
         "84562A",
         null,
         "-3",
         "12/3/2010 15:42",
         "0.0",
         null,
         "United Kingdom"
        ],
        [
         "7211",
         "7211",
         "537019",
         "37474",
         null,
         "-15",
         "12/3/2010 15:43",
         "0.0",
         null,
         "United Kingdom"
        ],
        [
         "7212",
         "7212",
         "537020",
         "21807",
         null,
         "-30",
         "12/3/2010 15:43",
         "0.0",
         null,
         "United Kingdom"
        ],
        [
         "7213",
         "7213",
         "537021",
         "21011",
         null,
         "-20",
         "12/3/2010 15:43",
         "0.0",
         null,
         "United Kingdom"
        ],
        [
         "7291",
         "7291",
         "537027",
         "18098C",
         null,
         "-140",
         "12/3/2010 16:36",
         "0.0",
         null,
         "United Kingdom"
        ],
        [
         "7292",
         "7292",
         "537028",
         "21696",
         null,
         "-320",
         "12/3/2010 16:36",
         "0.0",
         null,
         "United Kingdom"
        ],
        [
         "7293",
         "7293",
         "537029",
         "37476",
         null,
         "-6",
         "12/3/2010 16:37",
         "0.0",
         null,
         "United Kingdom"
        ],
        [
         "12008",
         "12008",
         "537361",
         "21777",
         null,
         "5",
         "12/6/2010 12:34",
         "0.0",
         null,
         "United Kingdom"
        ],
        [
         "12069",
         "12069",
         "537363",
         "84569B",
         null,
         "-20",
         "12/6/2010 12:35",
         "0.0",
         null,
         "United Kingdom"
        ],
        [
         "12070",
         "12070",
         "537364",
         "21027",
         null,
         "-70",
         "12/6/2010 12:36",
         "0.0",
         null,
         "United Kingdom"
        ],
        [
         "12934",
         "12934",
         "537401",
         "84898F",
         null,
         "-24",
         "12/6/2010 14:37",
         "0.0",
         null,
         "United Kingdom"
        ],
        [
         "13219",
         "13219",
         "537427",
         "84968B",
         null,
         "-21",
         "12/6/2010 15:37",
         "0.0",
         null,
         "United Kingdom"
        ],
        [
         "13263",
         "13263",
         "537430",
         "85215",
         null,
         "120",
         "12/6/2010 16:05",
         "0.0",
         null,
         "United Kingdom"
        ],
        [
         "13959",
         "13959",
         "537436",
         "84270",
         null,
         "7",
         "12/6/2010 17:00",
         "0.0",
         null,
         "United Kingdom"
        ],
        [
         "13960",
         "13960",
         "537437",
         "90167",
         null,
         "10",
         "12/6/2010 17:00",
         "0.0",
         null,
         "United Kingdom"
        ]
       ],
       "shape": {
        "columns": 9,
        "rows": 1454
       }
      },
      "text/html": [
       "<div>\n",
       "<style scoped>\n",
       "    .dataframe tbody tr th:only-of-type {\n",
       "        vertical-align: middle;\n",
       "    }\n",
       "\n",
       "    .dataframe tbody tr th {\n",
       "        vertical-align: top;\n",
       "    }\n",
       "\n",
       "    .dataframe thead th {\n",
       "        text-align: right;\n",
       "    }\n",
       "</style>\n",
       "<table border=\"1\" class=\"dataframe\">\n",
       "  <thead>\n",
       "    <tr style=\"text-align: right;\">\n",
       "      <th></th>\n",
       "      <th>index</th>\n",
       "      <th>InvoiceNo</th>\n",
       "      <th>StockCode</th>\n",
       "      <th>Description</th>\n",
       "      <th>Quantity</th>\n",
       "      <th>InvoiceDate</th>\n",
       "      <th>UnitPrice</th>\n",
       "      <th>CustomerID</th>\n",
       "      <th>Country</th>\n",
       "    </tr>\n",
       "  </thead>\n",
       "  <tbody>\n",
       "    <tr>\n",
       "      <th>622</th>\n",
       "      <td>622</td>\n",
       "      <td>536414</td>\n",
       "      <td>22139</td>\n",
       "      <td>NaN</td>\n",
       "      <td>56</td>\n",
       "      <td>12/1/2010 11:52</td>\n",
       "      <td>0.0</td>\n",
       "      <td>NaN</td>\n",
       "      <td>United Kingdom</td>\n",
       "    </tr>\n",
       "    <tr>\n",
       "      <th>1970</th>\n",
       "      <td>1970</td>\n",
       "      <td>536545</td>\n",
       "      <td>21134</td>\n",
       "      <td>NaN</td>\n",
       "      <td>1</td>\n",
       "      <td>12/1/2010 14:32</td>\n",
       "      <td>0.0</td>\n",
       "      <td>NaN</td>\n",
       "      <td>United Kingdom</td>\n",
       "    </tr>\n",
       "    <tr>\n",
       "      <th>1971</th>\n",
       "      <td>1971</td>\n",
       "      <td>536546</td>\n",
       "      <td>22145</td>\n",
       "      <td>NaN</td>\n",
       "      <td>1</td>\n",
       "      <td>12/1/2010 14:33</td>\n",
       "      <td>0.0</td>\n",
       "      <td>NaN</td>\n",
       "      <td>United Kingdom</td>\n",
       "    </tr>\n",
       "    <tr>\n",
       "      <th>1972</th>\n",
       "      <td>1972</td>\n",
       "      <td>536547</td>\n",
       "      <td>37509</td>\n",
       "      <td>NaN</td>\n",
       "      <td>1</td>\n",
       "      <td>12/1/2010 14:33</td>\n",
       "      <td>0.0</td>\n",
       "      <td>NaN</td>\n",
       "      <td>United Kingdom</td>\n",
       "    </tr>\n",
       "    <tr>\n",
       "      <th>1987</th>\n",
       "      <td>1987</td>\n",
       "      <td>536549</td>\n",
       "      <td>85226A</td>\n",
       "      <td>NaN</td>\n",
       "      <td>1</td>\n",
       "      <td>12/1/2010 14:34</td>\n",
       "      <td>0.0</td>\n",
       "      <td>NaN</td>\n",
       "      <td>United Kingdom</td>\n",
       "    </tr>\n",
       "    <tr>\n",
       "      <th>...</th>\n",
       "      <td>...</td>\n",
       "      <td>...</td>\n",
       "      <td>...</td>\n",
       "      <td>...</td>\n",
       "      <td>...</td>\n",
       "      <td>...</td>\n",
       "      <td>...</td>\n",
       "      <td>...</td>\n",
       "      <td>...</td>\n",
       "    </tr>\n",
       "    <tr>\n",
       "      <th>535322</th>\n",
       "      <td>535322</td>\n",
       "      <td>581199</td>\n",
       "      <td>84581</td>\n",
       "      <td>NaN</td>\n",
       "      <td>-2</td>\n",
       "      <td>12/7/2011 18:26</td>\n",
       "      <td>0.0</td>\n",
       "      <td>NaN</td>\n",
       "      <td>United Kingdom</td>\n",
       "    </tr>\n",
       "    <tr>\n",
       "      <th>535326</th>\n",
       "      <td>535326</td>\n",
       "      <td>581203</td>\n",
       "      <td>23406</td>\n",
       "      <td>NaN</td>\n",
       "      <td>15</td>\n",
       "      <td>12/7/2011 18:31</td>\n",
       "      <td>0.0</td>\n",
       "      <td>NaN</td>\n",
       "      <td>United Kingdom</td>\n",
       "    </tr>\n",
       "    <tr>\n",
       "      <th>535332</th>\n",
       "      <td>535332</td>\n",
       "      <td>581209</td>\n",
       "      <td>21620</td>\n",
       "      <td>NaN</td>\n",
       "      <td>6</td>\n",
       "      <td>12/7/2011 18:35</td>\n",
       "      <td>0.0</td>\n",
       "      <td>NaN</td>\n",
       "      <td>United Kingdom</td>\n",
       "    </tr>\n",
       "    <tr>\n",
       "      <th>536981</th>\n",
       "      <td>536981</td>\n",
       "      <td>581234</td>\n",
       "      <td>72817</td>\n",
       "      <td>NaN</td>\n",
       "      <td>27</td>\n",
       "      <td>12/8/2011 10:33</td>\n",
       "      <td>0.0</td>\n",
       "      <td>NaN</td>\n",
       "      <td>United Kingdom</td>\n",
       "    </tr>\n",
       "    <tr>\n",
       "      <th>538554</th>\n",
       "      <td>538554</td>\n",
       "      <td>581408</td>\n",
       "      <td>85175</td>\n",
       "      <td>NaN</td>\n",
       "      <td>20</td>\n",
       "      <td>12/8/2011 14:06</td>\n",
       "      <td>0.0</td>\n",
       "      <td>NaN</td>\n",
       "      <td>United Kingdom</td>\n",
       "    </tr>\n",
       "  </tbody>\n",
       "</table>\n",
       "<p>1454 rows × 9 columns</p>\n",
       "</div>"
      ],
      "text/plain": [
       "         index InvoiceNo StockCode Description  Quantity      InvoiceDate  \\\n",
       "622        622    536414     22139         NaN        56  12/1/2010 11:52   \n",
       "1970      1970    536545     21134         NaN         1  12/1/2010 14:32   \n",
       "1971      1971    536546     22145         NaN         1  12/1/2010 14:33   \n",
       "1972      1972    536547     37509         NaN         1  12/1/2010 14:33   \n",
       "1987      1987    536549    85226A         NaN         1  12/1/2010 14:34   \n",
       "...        ...       ...       ...         ...       ...              ...   \n",
       "535322  535322    581199     84581         NaN        -2  12/7/2011 18:26   \n",
       "535326  535326    581203     23406         NaN        15  12/7/2011 18:31   \n",
       "535332  535332    581209     21620         NaN         6  12/7/2011 18:35   \n",
       "536981  536981    581234     72817         NaN        27  12/8/2011 10:33   \n",
       "538554  538554    581408     85175         NaN        20  12/8/2011 14:06   \n",
       "\n",
       "        UnitPrice  CustomerID         Country  \n",
       "622           0.0         NaN  United Kingdom  \n",
       "1970          0.0         NaN  United Kingdom  \n",
       "1971          0.0         NaN  United Kingdom  \n",
       "1972          0.0         NaN  United Kingdom  \n",
       "1987          0.0         NaN  United Kingdom  \n",
       "...           ...         ...             ...  \n",
       "535322        0.0         NaN  United Kingdom  \n",
       "535326        0.0         NaN  United Kingdom  \n",
       "535332        0.0         NaN  United Kingdom  \n",
       "536981        0.0         NaN  United Kingdom  \n",
       "538554        0.0         NaN  United Kingdom  \n",
       "\n",
       "[1454 rows x 9 columns]"
      ]
     },
     "execution_count": 30,
     "metadata": {},
     "output_type": "execute_result"
    }
   ],
   "source": [
    "df[df[\"Description\"].isnull()][df[\"UnitPrice\"] == 0]"
   ]
  },
  {
   "cell_type": "code",
   "execution_count": 36,
   "id": "2868a460",
   "metadata": {},
   "outputs": [
    {
     "name": "stderr",
     "output_type": "stream",
     "text": [
      "C:\\Users\\spanu\\AppData\\Local\\Temp\\ipykernel_12796\\678323461.py:1: UserWarning: Boolean Series key will be reindexed to match DataFrame index.\n",
      "  df[\n"
     ]
    },
    {
     "data": {
      "text/plain": [
       "array([], dtype=object)"
      ]
     },
     "execution_count": 36,
     "metadata": {},
     "output_type": "execute_result"
    }
   ],
   "source": [
    "df[\n",
    "    df[\"Description\"].str.contains(r'^(?=.*[a-z])(?=.*[0-9])(?=.*[^a-zA-Z0-9])[^A-Z]+$', na=False)][\n",
    "        df[\"UnitPrice\"] != 0][\"Description\"].unique()"
   ]
  },
  {
   "cell_type": "code",
   "execution_count": 39,
   "id": "4e68cfeb",
   "metadata": {},
   "outputs": [
    {
     "name": "stderr",
     "output_type": "stream",
     "text": [
      "C:\\Users\\spanu\\AppData\\Local\\Temp\\ipykernel_12796\\585262699.py:1: UserWarning: Boolean Series key will be reindexed to match DataFrame index.\n",
      "  df[\n"
     ]
    },
    {
     "data": {
      "application/vnd.microsoft.datawrangler.viewer.v0+json": {
       "columns": [
        {
         "name": "index",
         "rawType": "int64",
         "type": "integer"
        },
        {
         "name": "Description",
         "rawType": "object",
         "type": "string"
        },
        {
         "name": "UnitPrice",
         "rawType": "float64",
         "type": "float"
        }
       ],
       "ref": "d2d0b5d8-f290-4dc3-930b-acd54fe60f44",
       "rows": [],
       "shape": {
        "columns": 2,
        "rows": 0
       }
      },
      "text/html": [
       "<div>\n",
       "<style scoped>\n",
       "    .dataframe tbody tr th:only-of-type {\n",
       "        vertical-align: middle;\n",
       "    }\n",
       "\n",
       "    .dataframe tbody tr th {\n",
       "        vertical-align: top;\n",
       "    }\n",
       "\n",
       "    .dataframe thead th {\n",
       "        text-align: right;\n",
       "    }\n",
       "</style>\n",
       "<table border=\"1\" class=\"dataframe\">\n",
       "  <thead>\n",
       "    <tr style=\"text-align: right;\">\n",
       "      <th></th>\n",
       "      <th>Description</th>\n",
       "      <th>UnitPrice</th>\n",
       "    </tr>\n",
       "  </thead>\n",
       "  <tbody>\n",
       "  </tbody>\n",
       "</table>\n",
       "</div>"
      ],
      "text/plain": [
       "Empty DataFrame\n",
       "Columns: [Description, UnitPrice]\n",
       "Index: []"
      ]
     },
     "execution_count": 39,
     "metadata": {},
     "output_type": "execute_result"
    }
   ],
   "source": [
    "df[\n",
    "    df[\"Description\"].str.contains(r'^(?=.*[A-Z])(?=.*[0-9])(?=.*[^a-zA-Z0-9][^a-z]+)$', na=False)][\n",
    "        df[\"UnitPrice\"] == 0][[\"Description\", \"UnitPrice\"]]"
   ]
  },
  {
   "cell_type": "code",
   "execution_count": 50,
   "id": "9c6675e3",
   "metadata": {},
   "outputs": [
    {
     "data": {
      "text/plain": [
       "array([2010, 2011], dtype=int32)"
      ]
     },
     "execution_count": 50,
     "metadata": {},
     "output_type": "execute_result"
    }
   ],
   "source": [
    "df_date = pd.to_datetime(df[\"InvoiceDate\"])\n",
    "\n",
    "df_date.dt.year.unique()"
   ]
  },
  {
   "cell_type": "code",
   "execution_count": 56,
   "id": "63cbcebc",
   "metadata": {},
   "outputs": [
    {
     "data": {
      "text/plain": [
       "array(['United Kingdom', 'France', 'Australia', 'Netherlands', 'Germany',\n",
       "       'Norway', 'EIRE', 'Switzerland', 'Spain', 'Poland', 'Portugal',\n",
       "       'Italy', 'Belgium', 'Lithuania', 'Japan', 'Iceland',\n",
       "       'Channel Islands', 'Denmark', 'Cyprus', 'Sweden', 'Austria',\n",
       "       'Israel', 'Finland', 'Bahrain', 'Greece', 'Hong Kong', 'Singapore',\n",
       "       'Lebanon', 'United Arab Emirates', 'Saudi Arabia',\n",
       "       'Czech Republic', 'Canada', 'Unspecified', 'Brazil', 'USA',\n",
       "       'European Community', 'Malta', 'RSA'], dtype=object)"
      ]
     },
     "execution_count": 56,
     "metadata": {},
     "output_type": "execute_result"
    }
   ],
   "source": [
    "df[\"Country\"].unique()"
   ]
  }
 ],
 "metadata": {
  "kernelspec": {
   "display_name": "Python 3 (ipykernel)",
   "language": "python",
   "name": "python3"
  },
  "language_info": {
   "codemirror_mode": {
    "name": "ipython",
    "version": 3
   },
   "file_extension": ".py",
   "mimetype": "text/x-python",
   "name": "python",
   "nbconvert_exporter": "python",
   "pygments_lexer": "ipython3",
   "version": "3.12.2"
  }
 },
 "nbformat": 4,
 "nbformat_minor": 5
}
