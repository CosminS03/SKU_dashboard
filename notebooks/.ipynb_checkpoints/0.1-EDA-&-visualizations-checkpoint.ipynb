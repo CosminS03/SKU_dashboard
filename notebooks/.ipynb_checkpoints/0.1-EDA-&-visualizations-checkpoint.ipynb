{
 "cells": [
  {
   "cell_type": "code",
   "execution_count": 1,
   "id": "b37b7d97",
   "metadata": {},
   "outputs": [],
   "source": [
    "import pandas as pd\n",
    "\n",
    "df = pd.read_csv(\"../data/interim/online_retail_transformed.csv\")"
   ]
  },
  {
   "cell_type": "code",
   "execution_count": 2,
   "id": "c25c5d29",
   "metadata": {},
   "outputs": [
    {
     "name": "stdout",
     "output_type": "stream",
     "text": [
      "<class 'pandas.core.frame.DataFrame'>\n",
      "RangeIndex: 485147 entries, 0 to 485146\n",
      "Data columns (total 8 columns):\n",
      " #   Column       Non-Null Count   Dtype  \n",
      "---  ------       --------------   -----  \n",
      " 0   InvoiceNo    485147 non-null  object \n",
      " 1   SKU          485147 non-null  int64  \n",
      " 2   Description  485147 non-null  object \n",
      " 3   Quantity     485147 non-null  int64  \n",
      " 4   InvoiceDate  485147 non-null  object \n",
      " 5   UnitPrice    485147 non-null  float64\n",
      " 6   CustomerID   485147 non-null  object \n",
      " 7   Country      485147 non-null  object \n",
      "dtypes: float64(1), int64(2), object(5)\n",
      "memory usage: 29.6+ MB\n"
     ]
    }
   ],
   "source": [
    "df.info()"
   ]
  },
  {
   "cell_type": "code",
   "execution_count": 3,
   "id": "a0609db6",
   "metadata": {},
   "outputs": [],
   "source": [
    "df['InvoiceDate'] = pd.to_datetime(df[\"InvoiceDate\"])"
   ]
  },
  {
   "cell_type": "code",
   "execution_count": 4,
   "id": "62334f80",
   "metadata": {},
   "outputs": [
    {
     "data": {
      "application/vnd.microsoft.datawrangler.viewer.v0+json": {
       "columns": [
        {
         "name": "index",
         "rawType": "object",
         "type": "string"
        },
        {
         "name": "SKU",
         "rawType": "float64",
         "type": "float"
        },
        {
         "name": "Quantity",
         "rawType": "float64",
         "type": "float"
        },
        {
         "name": "InvoiceDate",
         "rawType": "object",
         "type": "unknown"
        },
        {
         "name": "UnitPrice",
         "rawType": "float64",
         "type": "float"
        }
       ],
       "ref": "79199c85-84cb-4722-a0b2-fe4148390e94",
       "rows": [
        [
         "count",
         "485147.0",
         "485147.0",
         "485147",
         "485147.0"
        ],
        [
         "mean",
         "27066.65475412607",
         "10.039808552871603",
         "2011-07-07 06:23:41.996302336",
         "3.293898096865486"
        ],
        [
         "min",
         "10002.0",
         "-80995.0",
         "2010-12-01 08:26:00",
         "0.03"
        ],
        [
         "25%",
         "21928.0",
         "1.0",
         "2011-03-30 16:34:00",
         "1.25"
        ],
        [
         "50%",
         "22560.0",
         "3.0",
         "2011-07-24 12:26:00",
         "2.08"
        ],
        [
         "75%",
         "23139.0",
         "12.0",
         "2011-10-20 14:18:00",
         "4.13"
        ],
        [
         "max",
         "90208.0",
         "80995.0",
         "2011-12-09 12:50:00",
         "649.5"
        ],
        [
         "std",
         "15942.838956701788",
         "226.8717082381541",
         null,
         "4.573709030753159"
        ]
       ],
       "shape": {
        "columns": 4,
        "rows": 8
       }
      },
      "text/html": [
       "<div>\n",
       "<style scoped>\n",
       "    .dataframe tbody tr th:only-of-type {\n",
       "        vertical-align: middle;\n",
       "    }\n",
       "\n",
       "    .dataframe tbody tr th {\n",
       "        vertical-align: top;\n",
       "    }\n",
       "\n",
       "    .dataframe thead th {\n",
       "        text-align: right;\n",
       "    }\n",
       "</style>\n",
       "<table border=\"1\" class=\"dataframe\">\n",
       "  <thead>\n",
       "    <tr style=\"text-align: right;\">\n",
       "      <th></th>\n",
       "      <th>SKU</th>\n",
       "      <th>Quantity</th>\n",
       "      <th>InvoiceDate</th>\n",
       "      <th>UnitPrice</th>\n",
       "    </tr>\n",
       "  </thead>\n",
       "  <tbody>\n",
       "    <tr>\n",
       "      <th>count</th>\n",
       "      <td>485147.000000</td>\n",
       "      <td>485147.000000</td>\n",
       "      <td>485147</td>\n",
       "      <td>485147.000000</td>\n",
       "    </tr>\n",
       "    <tr>\n",
       "      <th>mean</th>\n",
       "      <td>27066.654754</td>\n",
       "      <td>10.039809</td>\n",
       "      <td>2011-07-07 06:23:41.996302336</td>\n",
       "      <td>3.293898</td>\n",
       "    </tr>\n",
       "    <tr>\n",
       "      <th>min</th>\n",
       "      <td>10002.000000</td>\n",
       "      <td>-80995.000000</td>\n",
       "      <td>2010-12-01 08:26:00</td>\n",
       "      <td>0.030000</td>\n",
       "    </tr>\n",
       "    <tr>\n",
       "      <th>25%</th>\n",
       "      <td>21928.000000</td>\n",
       "      <td>1.000000</td>\n",
       "      <td>2011-03-30 16:34:00</td>\n",
       "      <td>1.250000</td>\n",
       "    </tr>\n",
       "    <tr>\n",
       "      <th>50%</th>\n",
       "      <td>22560.000000</td>\n",
       "      <td>3.000000</td>\n",
       "      <td>2011-07-24 12:26:00</td>\n",
       "      <td>2.080000</td>\n",
       "    </tr>\n",
       "    <tr>\n",
       "      <th>75%</th>\n",
       "      <td>23139.000000</td>\n",
       "      <td>12.000000</td>\n",
       "      <td>2011-10-20 14:18:00</td>\n",
       "      <td>4.130000</td>\n",
       "    </tr>\n",
       "    <tr>\n",
       "      <th>max</th>\n",
       "      <td>90208.000000</td>\n",
       "      <td>80995.000000</td>\n",
       "      <td>2011-12-09 12:50:00</td>\n",
       "      <td>649.500000</td>\n",
       "    </tr>\n",
       "    <tr>\n",
       "      <th>std</th>\n",
       "      <td>15942.838957</td>\n",
       "      <td>226.871708</td>\n",
       "      <td>NaN</td>\n",
       "      <td>4.573709</td>\n",
       "    </tr>\n",
       "  </tbody>\n",
       "</table>\n",
       "</div>"
      ],
      "text/plain": [
       "                 SKU       Quantity                    InvoiceDate  \\\n",
       "count  485147.000000  485147.000000                         485147   \n",
       "mean    27066.654754      10.039809  2011-07-07 06:23:41.996302336   \n",
       "min     10002.000000  -80995.000000            2010-12-01 08:26:00   \n",
       "25%     21928.000000       1.000000            2011-03-30 16:34:00   \n",
       "50%     22560.000000       3.000000            2011-07-24 12:26:00   \n",
       "75%     23139.000000      12.000000            2011-10-20 14:18:00   \n",
       "max     90208.000000   80995.000000            2011-12-09 12:50:00   \n",
       "std     15942.838957     226.871708                            NaN   \n",
       "\n",
       "           UnitPrice  \n",
       "count  485147.000000  \n",
       "mean        3.293898  \n",
       "min         0.030000  \n",
       "25%         1.250000  \n",
       "50%         2.080000  \n",
       "75%         4.130000  \n",
       "max       649.500000  \n",
       "std         4.573709  "
      ]
     },
     "execution_count": 4,
     "metadata": {},
     "output_type": "execute_result"
    }
   ],
   "source": [
    "df.describe()"
   ]
  },
  {
   "cell_type": "code",
   "execution_count": 5,
   "id": "eb120d04",
   "metadata": {},
   "outputs": [],
   "source": [
    "from src import plots"
   ]
  },
  {
   "cell_type": "code",
   "execution_count": 6,
   "id": "512a5ca9",
   "metadata": {},
   "outputs": [
    {
     "data": {
      "image/png": "[encoded data removed]",
      "text/plain": [
       "<Figure size 640x480 with 1 Axes>"
      ]
     },
     "metadata": {},
     "output_type": "display_data"
    }
   ],
   "source": [
    "plots.winsorized_violin_plot(df[\"Quantity\"] ,\"Quantity\", 0.1, 0.1)"
   ]
  },
  {
   "cell_type": "code",
   "execution_count": 7,
   "id": "3ad62ebf",
   "metadata": {},
   "outputs": [
    {
     "data": {
      "image/png": "[encoded data removed]",
      "text/plain": [
       "<Figure size 640x480 with 1 Axes>"
      ]
     },
     "metadata": {},
     "output_type": "display_data"
    }
   ],
   "source": [
    "plots.winsorized_violin_plot(df[\"UnitPrice\"], \"Unit Price\", 0, 0.1)"
   ]
  },
  {
   "cell_type": "code",
   "execution_count": 8,
   "id": "1c9b903a",
   "metadata": {},
   "outputs": [
    {
     "data": {
      "text/plain": [
       "array([2010, 2011], dtype=int32)"
      ]
     },
     "execution_count": 8,
     "metadata": {},
     "output_type": "execute_result"
    }
   ],
   "source": [
    "df[\"InvoiceDate\"].dt.year.unique()"
   ]
  },
  {
   "cell_type": "code",
   "execution_count": 9,
   "id": "5ffa846c",
   "metadata": {},
   "outputs": [
    {
     "name": "stdout",
     "output_type": "stream",
     "text": [
      "Data from 2010: 36821\n",
      "Data from 2011: 448326\n"
     ]
    }
   ],
   "source": [
    "print(f\"Data from 2010: {len(df[df[\"InvoiceDate\"].dt.year == 2010])}\")\n",
    "print(f\"Data from 2011: {len(df[df[\"InvoiceDate\"].dt.year == 2011])}\")"
   ]
  },
  {
   "cell_type": "code",
   "execution_count": 10,
   "id": "89dc42bb",
   "metadata": {},
   "outputs": [
    {
     "name": "stdout",
     "output_type": "stream",
     "text": [
      "2010: 0.08\n",
      "2011: 0.92\n"
     ]
    }
   ],
   "source": [
    "wght_10 = round(len(df[df[\"InvoiceDate\"].dt.year == 2010]) / len(df[df[\"InvoiceDate\"].dt.year == 2011]), 2)\n",
    "wght_11 = 1 - wght_10\n",
    "\n",
    "print(f\"2010: {wght_10}\")\n",
    "print(f\"2011: {wght_11}\")"
   ]
  },
  {
   "cell_type": "code",
   "execution_count": 11,
   "id": "9c744b34",
   "metadata": {},
   "outputs": [],
   "source": [
    "df[\"Revenue\"] = round(df[\"Quantity\"] * df[\"UnitPrice\"], 2) "
   ]
  },
  {
   "cell_type": "code",
   "execution_count": 12,
   "id": "acd17e22",
   "metadata": {},
   "outputs": [
    {
     "data": {
      "image/png": "[encoded data removed]",
      "text/plain": [
       "<Figure size 640x480 with 1 Axes>"
      ]
     },
     "metadata": {},
     "output_type": "display_data"
    }
   ],
   "source": [
    "plots.winsorized_violin_plot(df[\"Revenue\"], \"Revenue\", 0.1, 0.1)"
   ]
  },
  {
   "cell_type": "code",
   "execution_count": 27,
   "id": "15ef151a",
   "metadata": {},
   "outputs": [],
   "source": [
    "SKU_revenue = df[~df[\"InvoiceNo\"].str.startswith('C')].groupby(\"SKU\")[\"Revenue\"].sum().reset_index()"
   ]
  },
  {
   "cell_type": "code",
   "execution_count": 42,
   "id": "1ef04c49",
   "metadata": {},
   "outputs": [],
   "source": [
    "import matplotlib.pyplot as plt\n",
    "import seaborn as sns\n",
    "\n",
    "SKU_revenue[\"Cumulative_Revenue\"] = SKU_revenue['Revenue'].cumsum()\n",
    "\n",
    "total_revenue = SKU_revenue[\"Revenue\"].sum()\n",
    "\n",
    "SKU_revenue[\"Cumulative_percentage\"] = round(SKU_revenue[\"Cumulative_Revenue\"] / total_revenue * 100, 2)\n",
    "\n",
    "SKU_revenue = SKU_revenue.sort_values(by= \"Revenue\", ascending=False).reset_index()"
   ]
  },
  {
   "cell_type": "code",
   "execution_count": 43,
   "id": "4666f6b3",
   "metadata": {},
   "outputs": [
    {
     "data": {
      "application/vnd.microsoft.datawrangler.viewer.v0+json": {
       "columns": [
        {
         "name": "index",
         "rawType": "int64",
         "type": "integer"
        },
        {
         "name": "index",
         "rawType": "int64",
         "type": "integer"
        },
        {
         "name": "SKU",
         "rawType": "int64",
         "type": "integer"
        },
        {
         "name": "Revenue",
         "rawType": "float64",
         "type": "float"
        },
        {
         "name": "Cumulative_Revenue",
         "rawType": "float64",
         "type": "float"
        },
        {
         "name": "Cumulative_percentage",
         "rawType": "float64",
         "type": "float"
        }
       ],
       "ref": "a8e78c19-13ca-47e0-af52-83d0f82e18b2",
       "rows": [
        [
         "0",
         "1235",
         "22423",
         "174484.74",
         "174484.74",
         "1.86"
        ],
        [
         "1",
         "2390",
         "23843",
         "168469.6",
         "342954.33999999997",
         "3.66"
        ],
        [
         "2",
         "2468",
         "47566",
         "99504.33",
         "442458.67",
         "4.72"
        ],
        [
         "3",
         "1945",
         "23166",
         "81700.92000000001",
         "524159.58999999997",
         "5.6"
        ],
        [
         "4",
         "1867",
         "23084",
         "66964.99",
         "591124.58",
         "6.31"
        ],
        [
         "5",
         "931",
         "22086",
         "64952.29",
         "656076.87",
         "7.0"
        ],
        [
         "6",
         "2666",
         "84879",
         "59094.93",
         "715171.8",
         "7.63"
        ],
        [
         "7",
         "2532",
         "79321",
         "54117.76",
         "769289.56",
         "8.21"
        ],
        [
         "8",
         "1309",
         "22502",
         "51426.62",
         "820716.18",
         "8.76"
        ],
        [
         "9",
         "1034",
         "22197",
         "51354.02",
         "872070.2000000001",
         "9.31"
        ]
       ],
       "shape": {
        "columns": 5,
        "rows": 10
       }
      },
      "text/html": [
       "<div>\n",
       "<style scoped>\n",
       "    .dataframe tbody tr th:only-of-type {\n",
       "        vertical-align: middle;\n",
       "    }\n",
       "\n",
       "    .dataframe tbody tr th {\n",
       "        vertical-align: top;\n",
       "    }\n",
       "\n",
       "    .dataframe thead th {\n",
       "        text-align: right;\n",
       "    }\n",
       "</style>\n",
       "<table border=\"1\" class=\"dataframe\">\n",
       "  <thead>\n",
       "    <tr style=\"text-align: right;\">\n",
       "      <th></th>\n",
       "      <th>index</th>\n",
       "      <th>SKU</th>\n",
       "      <th>Revenue</th>\n",
       "      <th>Cumulative_Revenue</th>\n",
       "      <th>Cumulative_percentage</th>\n",
       "    </tr>\n",
       "  </thead>\n",
       "  <tbody>\n",
       "    <tr>\n",
       "      <th>0</th>\n",
       "      <td>1235</td>\n",
       "      <td>22423</td>\n",
       "      <td>174484.74</td>\n",
       "      <td>174484.74</td>\n",
       "      <td>1.86</td>\n",
       "    </tr>\n",
       "    <tr>\n",
       "      <th>1</th>\n",
       "      <td>2390</td>\n",
       "      <td>23843</td>\n",
       "      <td>168469.60</td>\n",
       "      <td>342954.34</td>\n",
       "      <td>3.66</td>\n",
       "    </tr>\n",
       "    <tr>\n",
       "      <th>2</th>\n",
       "      <td>2468</td>\n",
       "      <td>47566</td>\n",
       "      <td>99504.33</td>\n",
       "      <td>442458.67</td>\n",
       "      <td>4.72</td>\n",
       "    </tr>\n",
       "    <tr>\n",
       "      <th>3</th>\n",
       "      <td>1945</td>\n",
       "      <td>23166</td>\n",
       "      <td>81700.92</td>\n",
       "      <td>524159.59</td>\n",
       "      <td>5.60</td>\n",
       "    </tr>\n",
       "    <tr>\n",
       "      <th>4</th>\n",
       "      <td>1867</td>\n",
       "      <td>23084</td>\n",
       "      <td>66964.99</td>\n",
       "      <td>591124.58</td>\n",
       "      <td>6.31</td>\n",
       "    </tr>\n",
       "    <tr>\n",
       "      <th>5</th>\n",
       "      <td>931</td>\n",
       "      <td>22086</td>\n",
       "      <td>64952.29</td>\n",
       "      <td>656076.87</td>\n",
       "      <td>7.00</td>\n",
       "    </tr>\n",
       "    <tr>\n",
       "      <th>6</th>\n",
       "      <td>2666</td>\n",
       "      <td>84879</td>\n",
       "      <td>59094.93</td>\n",
       "      <td>715171.80</td>\n",
       "      <td>7.63</td>\n",
       "    </tr>\n",
       "    <tr>\n",
       "      <th>7</th>\n",
       "      <td>2532</td>\n",
       "      <td>79321</td>\n",
       "      <td>54117.76</td>\n",
       "      <td>769289.56</td>\n",
       "      <td>8.21</td>\n",
       "    </tr>\n",
       "    <tr>\n",
       "      <th>8</th>\n",
       "      <td>1309</td>\n",
       "      <td>22502</td>\n",
       "      <td>51426.62</td>\n",
       "      <td>820716.18</td>\n",
       "      <td>8.76</td>\n",
       "    </tr>\n",
       "    <tr>\n",
       "      <th>9</th>\n",
       "      <td>1034</td>\n",
       "      <td>22197</td>\n",
       "      <td>51354.02</td>\n",
       "      <td>872070.20</td>\n",
       "      <td>9.31</td>\n",
       "    </tr>\n",
       "  </tbody>\n",
       "</table>\n",
       "</div>"
      ],
      "text/plain": [
       "   index    SKU    Revenue  Cumulative_Revenue  Cumulative_percentage\n",
       "0   1235  22423  174484.74           174484.74                   1.86\n",
       "1   2390  23843  168469.60           342954.34                   3.66\n",
       "2   2468  47566   99504.33           442458.67                   4.72\n",
       "3   1945  23166   81700.92           524159.59                   5.60\n",
       "4   1867  23084   66964.99           591124.58                   6.31\n",
       "5    931  22086   64952.29           656076.87                   7.00\n",
       "6   2666  84879   59094.93           715171.80                   7.63\n",
       "7   2532  79321   54117.76           769289.56                   8.21\n",
       "8   1309  22502   51426.62           820716.18                   8.76\n",
       "9   1034  22197   51354.02           872070.20                   9.31"
      ]
     },
     "execution_count": 43,
     "metadata": {},
     "output_type": "execute_result"
    }
   ],
   "source": [
    "SKU_revenue.head(10)"
   ]
  },
  {
   "cell_type": "code",
   "execution_count": 54,
   "id": "024e9be2",
   "metadata": {},
   "outputs": [
    {
     "data": {
      "image/png": "[encoded data removed]",
      "text/plain": [
       "<Figure size 640x480 with 2 Axes>"
      ]
     },
     "metadata": {},
     "output_type": "display_data"
    }
   ],
   "source": [
    "fig, ax1 = plt.subplots()\n",
    "\n",
    "sku_order = SKU_revenue[\"SKU\"].to_list()\n",
    "\n",
    "sns.barplot(\n",
    "    x = 'SKU', \n",
    "    y = 'Revenue', \n",
    "    data=SKU_revenue, \n",
    "    ax=ax1, \n",
    "    color='lightskyblue', \n",
    "    order=sku_order)\n",
    "\n",
    "ax1.set_xticks([])\n",
    "\n",
    "ax2 = ax1.twinx()\n",
    "ax2.plot(\n",
    "    SKU_revenue.index, \n",
    "    SKU_revenue['Cumulative_percentage'], \n",
    "    color = 'red', \n",
    "    marker = 'o',\n",
    "    linestyle = '--')\n",
    "\n",
    "ax2.set_ylim(0, 110)\n",
    "\n",
    "plt.show()"
   ]
  }
 ],
 "metadata": {
  "kernelspec": {
   "display_name": "Python 3 (ipykernel)",
   "language": "python",
   "name": "python3"
  },
  "language_info": {
   "codemirror_mode": {
    "name": "ipython",
    "version": 3
   },
   "file_extension": ".py",
   "mimetype": "text/x-python",
   "name": "python",
   "nbconvert_exporter": "python",
   "pygments_lexer": "ipython3",
   "version": "3.12.2"
  }
 },
 "nbformat": 4,
 "nbformat_minor": 5
}
