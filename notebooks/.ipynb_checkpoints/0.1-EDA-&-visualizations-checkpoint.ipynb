{
 "cells": [
  {
   "cell_type": "code",
   "execution_count": 29,
   "id": "b37b7d97",
   "metadata": {},
   "outputs": [],
   "source": [
    "import pandas as pd\n",
    "\n",
    "df = pd.read_csv(\"../data/interim/online_retail_transformed.csv\")"
   ]
  },
  {
   "cell_type": "code",
   "execution_count": 30,
   "id": "c25c5d29",
   "metadata": {},
   "outputs": [
    {
     "name": "stdout",
     "output_type": "stream",
     "text": [
      "<class 'pandas.core.frame.DataFrame'>\n",
      "RangeIndex: 485215 entries, 0 to 485214\n",
      "Data columns (total 8 columns):\n",
      " #   Column       Non-Null Count   Dtype  \n",
      "---  ------       --------------   -----  \n",
      " 0   InvoiceNo    485215 non-null  object \n",
      " 1   SKU          485215 non-null  object \n",
      " 2   Description  485215 non-null  object \n",
      " 3   Quantity     485215 non-null  int64  \n",
      " 4   InvoiceDate  485215 non-null  object \n",
      " 5   UnitPrice    485215 non-null  float64\n",
      " 6   CustomerID   485215 non-null  object \n",
      " 7   Country      485215 non-null  object \n",
      "dtypes: float64(1), int64(1), object(6)\n",
      "memory usage: 29.6+ MB\n"
     ]
    }
   ],
   "source": [
    "df.info()"
   ]
  },
  {
   "cell_type": "code",
   "execution_count": 31,
   "id": "a0609db6",
   "metadata": {},
   "outputs": [],
   "source": [
    "df['InvoiceDate'] = pd.to_datetime(df[\"InvoiceDate\"])"
   ]
  },
  {
   "cell_type": "code",
   "execution_count": 32,
   "id": "62334f80",
   "metadata": {},
   "outputs": [
    {
     "data": {
      "application/vnd.microsoft.datawrangler.viewer.v0+json": {
       "columns": [
        {
         "name": "index",
         "rawType": "object",
         "type": "string"
        },
        {
         "name": "Quantity",
         "rawType": "float64",
         "type": "float"
        },
        {
         "name": "InvoiceDate",
         "rawType": "object",
         "type": "unknown"
        },
        {
         "name": "UnitPrice",
         "rawType": "float64",
         "type": "float"
        }
       ],
       "ref": "3127fc99-7373-4f64-87a8-50966183b0d9",
       "rows": [
        [
         "count",
         "485215.0",
         "485215",
         "485215.0"
        ],
        [
         "mean",
         "10.038442752182023",
         "2011-07-07 06:17:45.718908160",
         "3.310267058932638"
        ],
        [
         "min",
         "-80995.0",
         "2010-12-01 08:26:00",
         "0.001"
        ],
        [
         "25%",
         "1.0",
         "2011-03-30 16:34:00",
         "1.25"
        ],
        [
         "50%",
         "3.0",
         "2011-07-24 12:20:00",
         "2.08"
        ],
        [
         "75%",
         "12.0",
         "2011-10-20 14:18:00",
         "4.13"
        ],
        [
         "max",
         "80995.0",
         "2011-12-09 12:50:00",
         "1050.15"
        ],
        [
         "std",
         "226.85583992990018",
         null,
         "5.427858900306847"
        ]
       ],
       "shape": {
        "columns": 3,
        "rows": 8
       }
      },
      "text/html": [
       "<div>\n",
       "<style scoped>\n",
       "    .dataframe tbody tr th:only-of-type {\n",
       "        vertical-align: middle;\n",
       "    }\n",
       "\n",
       "    .dataframe tbody tr th {\n",
       "        vertical-align: top;\n",
       "    }\n",
       "\n",
       "    .dataframe thead th {\n",
       "        text-align: right;\n",
       "    }\n",
       "</style>\n",
       "<table border=\"1\" class=\"dataframe\">\n",
       "  <thead>\n",
       "    <tr style=\"text-align: right;\">\n",
       "      <th></th>\n",
       "      <th>Quantity</th>\n",
       "      <th>InvoiceDate</th>\n",
       "      <th>UnitPrice</th>\n",
       "    </tr>\n",
       "  </thead>\n",
       "  <tbody>\n",
       "    <tr>\n",
       "      <th>count</th>\n",
       "      <td>485215.000000</td>\n",
       "      <td>485215</td>\n",
       "      <td>485215.000000</td>\n",
       "    </tr>\n",
       "    <tr>\n",
       "      <th>mean</th>\n",
       "      <td>10.038443</td>\n",
       "      <td>2011-07-07 06:17:45.718908160</td>\n",
       "      <td>3.310267</td>\n",
       "    </tr>\n",
       "    <tr>\n",
       "      <th>min</th>\n",
       "      <td>-80995.000000</td>\n",
       "      <td>2010-12-01 08:26:00</td>\n",
       "      <td>0.001000</td>\n",
       "    </tr>\n",
       "    <tr>\n",
       "      <th>25%</th>\n",
       "      <td>1.000000</td>\n",
       "      <td>2011-03-30 16:34:00</td>\n",
       "      <td>1.250000</td>\n",
       "    </tr>\n",
       "    <tr>\n",
       "      <th>50%</th>\n",
       "      <td>3.000000</td>\n",
       "      <td>2011-07-24 12:20:00</td>\n",
       "      <td>2.080000</td>\n",
       "    </tr>\n",
       "    <tr>\n",
       "      <th>75%</th>\n",
       "      <td>12.000000</td>\n",
       "      <td>2011-10-20 14:18:00</td>\n",
       "      <td>4.130000</td>\n",
       "    </tr>\n",
       "    <tr>\n",
       "      <th>max</th>\n",
       "      <td>80995.000000</td>\n",
       "      <td>2011-12-09 12:50:00</td>\n",
       "      <td>1050.150000</td>\n",
       "    </tr>\n",
       "    <tr>\n",
       "      <th>std</th>\n",
       "      <td>226.855840</td>\n",
       "      <td>NaN</td>\n",
       "      <td>5.427859</td>\n",
       "    </tr>\n",
       "  </tbody>\n",
       "</table>\n",
       "</div>"
      ],
      "text/plain": [
       "            Quantity                    InvoiceDate      UnitPrice\n",
       "count  485215.000000                         485215  485215.000000\n",
       "mean       10.038443  2011-07-07 06:17:45.718908160       3.310267\n",
       "min    -80995.000000            2010-12-01 08:26:00       0.001000\n",
       "25%         1.000000            2011-03-30 16:34:00       1.250000\n",
       "50%         3.000000            2011-07-24 12:20:00       2.080000\n",
       "75%        12.000000            2011-10-20 14:18:00       4.130000\n",
       "max     80995.000000            2011-12-09 12:50:00    1050.150000\n",
       "std       226.855840                            NaN       5.427859"
      ]
     },
     "execution_count": 32,
     "metadata": {},
     "output_type": "execute_result"
    }
   ],
   "source": [
    "df.describe()"
   ]
  },
  {
   "cell_type": "code",
   "execution_count": 46,
   "id": "64940963",
   "metadata": {},
   "outputs": [],
   "source": [
    "import matplotlib.pyplot as plt\n",
    "import seaborn as sns\n",
    "from scipy.stats.mstats import winsorize"
   ]
  },
  {
   "cell_type": "code",
   "execution_count": 70,
   "id": "8d065de2",
   "metadata": {},
   "outputs": [],
   "source": [
    "quantity_winsored = winsorize(df[\"Quantity\"], limits=[0.1, 0.1])"
   ]
  },
  {
   "cell_type": "code",
   "execution_count": null,
   "id": "339bf0c7",
   "metadata": {},
   "outputs": [
    {
     "name": "stderr",
     "output_type": "stream",
     "text": [
      "C:\\Users\\spanu\\AppData\\Local\\Temp\\ipykernel_17108\\1767479951.py:8: FutureWarning: \n",
      "\n",
      "The `bw` parameter is deprecated in favor of `bw_method`/`bw_adjust`.\n",
      "Setting `bw_method='scott'`, but please see docs for the new parameters\n",
      "and update your code. This will become an error in seaborn v0.15.0.\n",
      "\n",
      "  sns.violinplot(data = df[\"Quantity\"], bw=\"scott\")\n"
     ]
    },
    {
     "data": {
      "image/png": "[encoded data removed]",
      "text/plain": [
       "<Figure size 640x480 with 2 Axes>"
      ]
     },
     "metadata": {},
     "output_type": "display_data"
    }
   ],
   "source": [
    "fig = plt.figure()\n",
    "gs = fig.add_gridspec(1, 2)\n",
    "\n",
    "ax1 = fig.add_subplot(gs[0, 0])\n",
    "sns.violinplot(data = quantity_winsored, ax = ax1)\n",
    "\n",
    "ax2 = fig.add_subplot(gs[0, 1])\n",
    "sns.violinplot(data = quantity_winsored, bw=\"scott\")\n",
    "\n",
    "plt.tight_layout()\n",
    "plt.show()"
   ]
  },
  {
   "cell_type": "code",
   "execution_count": null,
   "id": "1c9b903a",
   "metadata": {},
   "outputs": [
    {
     "data": {
      "text/plain": [
       "array([2010, 2011], dtype=int32)"
      ]
     },
     "execution_count": 8,
     "metadata": {},
     "output_type": "execute_result"
    }
   ],
   "source": [
    "df[\"InvoiceDate\"].dt.year.unique()"
   ]
  },
  {
   "cell_type": "code",
   "execution_count": 13,
   "id": "5ffa846c",
   "metadata": {},
   "outputs": [
    {
     "name": "stdout",
     "output_type": "stream",
     "text": [
      "Data from 2010: 36826\n",
      "Data from 2011: 448389\n"
     ]
    }
   ],
   "source": [
    "print(f\"Data from 2010: {len(df[df[\"InvoiceDate\"].dt.year == 2010])}\")\n",
    "print(f\"Data from 2011: {len(df[df[\"InvoiceDate\"].dt.year == 2011])}\")"
   ]
  },
  {
   "cell_type": "code",
   "execution_count": 14,
   "id": "89dc42bb",
   "metadata": {},
   "outputs": [
    {
     "name": "stdout",
     "output_type": "stream",
     "text": [
      "2010: 0.08\n",
      "2011: 0.92\n"
     ]
    }
   ],
   "source": [
    "wght_10 = round(len(df[df[\"InvoiceDate\"].dt.year == 2010]) / len(df[df[\"InvoiceDate\"].dt.year == 2011]), 2)\n",
    "wght_11 = 1 - wght_10\n",
    "\n",
    "print(f\"2010: {wght_10}\")\n",
    "print(f\"2011: {wght_11}\")"
   ]
  },
  {
   "cell_type": "code",
   "execution_count": 15,
   "id": "9c744b34",
   "metadata": {},
   "outputs": [],
   "source": [
    "df[\"Revenue\"] = round(df[\"Quantity\"] * df[\"UnitPrice\"], 2) "
   ]
  }
 ],
 "metadata": {
  "kernelspec": {
   "display_name": "Python 3 (ipykernel)",
   "language": "python",
   "name": "python3"
  },
  "language_info": {
   "codemirror_mode": {
    "name": "ipython",
    "version": 3
   },
   "file_extension": ".py",
   "mimetype": "text/x-python",
   "name": "python",
   "nbconvert_exporter": "python",
   "pygments_lexer": "ipython3",
   "version": "3.12.2"
  }
 },
 "nbformat": 4,
 "nbformat_minor": 5
}
